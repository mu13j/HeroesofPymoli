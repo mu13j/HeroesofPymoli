{
 "cells": [
  {
   "cell_type": "code",
   "execution_count": 226,
   "metadata": {
    "collapsed": true
   },
   "outputs": [],
   "source": [
    "import json\n",
    "import pandas as pd\n",
    "import numpy as np\n",
    "from pprint import pprint\n"
   ]
  },
  {
   "cell_type": "code",
   "execution_count": 206,
   "metadata": {
    "collapsed": true
   },
   "outputs": [],
   "source": [
    "data=json.load(open('purchase_data.json'))"
   ]
  },
  {
   "cell_type": "code",
   "execution_count": 207,
   "metadata": {},
   "outputs": [
    {
     "data": {
      "text/html": [
       "<div>\n",
       "<style>\n",
       "    .dataframe thead tr:only-child th {\n",
       "        text-align: right;\n",
       "    }\n",
       "\n",
       "    .dataframe thead th {\n",
       "        text-align: left;\n",
       "    }\n",
       "\n",
       "    .dataframe tbody tr th {\n",
       "        vertical-align: top;\n",
       "    }\n",
       "</style>\n",
       "<table border=\"1\" class=\"dataframe\">\n",
       "  <thead>\n",
       "    <tr style=\"text-align: right;\">\n",
       "      <th></th>\n",
       "      <th>Age</th>\n",
       "      <th>Gender</th>\n",
       "      <th>Item ID</th>\n",
       "      <th>Item Name</th>\n",
       "      <th>Price</th>\n",
       "      <th>SN</th>\n",
       "    </tr>\n",
       "  </thead>\n",
       "  <tbody>\n",
       "    <tr>\n",
       "      <th>0</th>\n",
       "      <td>38</td>\n",
       "      <td>Male</td>\n",
       "      <td>165</td>\n",
       "      <td>Bone Crushing Silver Skewer</td>\n",
       "      <td>3.37</td>\n",
       "      <td>Aelalis34</td>\n",
       "    </tr>\n",
       "    <tr>\n",
       "      <th>1</th>\n",
       "      <td>21</td>\n",
       "      <td>Male</td>\n",
       "      <td>119</td>\n",
       "      <td>Stormbringer, Dark Blade of Ending Misery</td>\n",
       "      <td>2.32</td>\n",
       "      <td>Eolo46</td>\n",
       "    </tr>\n",
       "    <tr>\n",
       "      <th>2</th>\n",
       "      <td>34</td>\n",
       "      <td>Male</td>\n",
       "      <td>174</td>\n",
       "      <td>Primitive Blade</td>\n",
       "      <td>2.46</td>\n",
       "      <td>Assastnya25</td>\n",
       "    </tr>\n",
       "    <tr>\n",
       "      <th>3</th>\n",
       "      <td>21</td>\n",
       "      <td>Male</td>\n",
       "      <td>92</td>\n",
       "      <td>Final Critic</td>\n",
       "      <td>1.36</td>\n",
       "      <td>Pheusrical25</td>\n",
       "    </tr>\n",
       "    <tr>\n",
       "      <th>4</th>\n",
       "      <td>23</td>\n",
       "      <td>Male</td>\n",
       "      <td>63</td>\n",
       "      <td>Stormfury Mace</td>\n",
       "      <td>1.27</td>\n",
       "      <td>Aela59</td>\n",
       "    </tr>\n",
       "  </tbody>\n",
       "</table>\n",
       "</div>"
      ],
      "text/plain": [
       "   Age Gender  Item ID                                  Item Name  Price  \\\n",
       "0   38   Male      165                Bone Crushing Silver Skewer   3.37   \n",
       "1   21   Male      119  Stormbringer, Dark Blade of Ending Misery   2.32   \n",
       "2   34   Male      174                            Primitive Blade   2.46   \n",
       "3   21   Male       92                               Final Critic   1.36   \n",
       "4   23   Male       63                             Stormfury Mace   1.27   \n",
       "\n",
       "             SN  \n",
       "0     Aelalis34  \n",
       "1        Eolo46  \n",
       "2   Assastnya25  \n",
       "3  Pheusrical25  \n",
       "4        Aela59  "
      ]
     },
     "execution_count": 207,
     "metadata": {},
     "output_type": "execute_result"
    }
   ],
   "source": [
    "dataframe=pd.DataFrame(data)\n",
    "dataframe.head()"
   ]
  },
  {
   "cell_type": "code",
   "execution_count": 406,
   "metadata": {},
   "outputs": [
    {
     "data": {
      "text/html": [
       "<div>\n",
       "<style>\n",
       "    .dataframe thead tr:only-child th {\n",
       "        text-align: right;\n",
       "    }\n",
       "\n",
       "    .dataframe thead th {\n",
       "        text-align: left;\n",
       "    }\n",
       "\n",
       "    .dataframe tbody tr th {\n",
       "        vertical-align: top;\n",
       "    }\n",
       "</style>\n",
       "<table border=\"1\" class=\"dataframe\">\n",
       "  <thead>\n",
       "    <tr style=\"text-align: right;\">\n",
       "      <th></th>\n",
       "      <th>Total Players</th>\n",
       "    </tr>\n",
       "  </thead>\n",
       "  <tbody>\n",
       "    <tr>\n",
       "      <th>0</th>\n",
       "      <td>573</td>\n",
       "    </tr>\n",
       "  </tbody>\n",
       "</table>\n",
       "</div>"
      ],
      "text/plain": [
       "   Total Players\n",
       "0            573"
      ]
     },
     "execution_count": 406,
     "metadata": {},
     "output_type": "execute_result"
    }
   ],
   "source": [
    "#Player Count\n",
    "players=[]\n",
    "for i in dataframe['SN']:\n",
    "    if i not in players:\n",
    "        players.append(i)\n",
    "TotalNumber=len(players)\n",
    "d={'Total Players':[TotalNumber]}\n",
    "pd.DataFrame(data=d)"
   ]
  },
  {
   "cell_type": "code",
   "execution_count": 404,
   "metadata": {},
   "outputs": [
    {
     "data": {
      "text/plain": [
       "183"
      ]
     },
     "execution_count": 404,
     "metadata": {},
     "output_type": "execute_result"
    }
   ],
   "source": [
    "#Unique Items\n",
    "UniqueItems=[]\n",
    "for i in dataframe['Item ID']:\n",
    "    if i not in UniqueItems:\n",
    "        UniqueItems.append(i)\n",
    "NumUniqueItems=len(UniqueItems)\n",
    "NumUniqueItems"
   ]
  },
  {
   "cell_type": "code",
   "execution_count": 22,
   "metadata": {},
   "outputs": [
    {
     "data": {
      "text/plain": [
       "'$2.93'"
      ]
     },
     "execution_count": 22,
     "metadata": {},
     "output_type": "execute_result"
    }
   ],
   "source": [
    "#Average Purchase Price\n",
    "AvgPurchasePrice='${:,.2f}'.format(sum(dataframe['Price'])/len(dataframe))\n",
    "AvgPurchasePrice"
   ]
  },
  {
   "cell_type": "code",
   "execution_count": 19,
   "metadata": {},
   "outputs": [
    {
     "data": {
      "text/plain": [
       "780"
      ]
     },
     "execution_count": 19,
     "metadata": {},
     "output_type": "execute_result"
    }
   ],
   "source": [
    "#Total Number of Purchases\n",
    "NumPurchase=len(dataframe)\n",
    "NumPurchase"
   ]
  },
  {
   "cell_type": "code",
   "execution_count": 21,
   "metadata": {},
   "outputs": [
    {
     "data": {
      "text/plain": [
       "'$2,286.33'"
      ]
     },
     "execution_count": 21,
     "metadata": {},
     "output_type": "execute_result"
    }
   ],
   "source": [
    "#Total Revenue\n",
    "Revenue='${:,.2f}'.format(sum(dataframe['Price']))\n",
    "Revenue"
   ]
  },
  {
   "cell_type": "code",
   "execution_count": 222,
   "metadata": {},
   "outputs": [
    {
     "data": {
      "text/html": [
       "<style  type=\"text/css\" >\n",
       "</style>  \n",
       "<table id=\"T_39a4e0cc_2473_11e8_bd27_b0359fc79ce0\" > \n",
       "<thead>    <tr> \n",
       "        <th class=\"blank level0\" ></th> \n",
       "        <th class=\"col_heading level0 col0\" >Number of Unique Items</th> \n",
       "        <th class=\"col_heading level0 col1\" >Average Price</th> \n",
       "        <th class=\"col_heading level0 col2\" >Number of Purchases</th> \n",
       "        <th class=\"col_heading level0 col3\" >Total Revenue</th> \n",
       "    </tr></thead> \n",
       "<tbody>    <tr> \n",
       "        <th id=\"T_39a4e0cc_2473_11e8_bd27_b0359fc79ce0level0_row0\" class=\"row_heading level0 row0\" >0</th> \n",
       "        <td id=\"T_39a4e0cc_2473_11e8_bd27_b0359fc79ce0row0_col0\" class=\"data row0 col0\" >183</td> \n",
       "        <td id=\"T_39a4e0cc_2473_11e8_bd27_b0359fc79ce0row0_col1\" class=\"data row0 col1\" >$2.93</td> \n",
       "        <td id=\"T_39a4e0cc_2473_11e8_bd27_b0359fc79ce0row0_col2\" class=\"data row0 col2\" >780</td> \n",
       "        <td id=\"T_39a4e0cc_2473_11e8_bd27_b0359fc79ce0row0_col3\" class=\"data row0 col3\" >$2,286.33</td> \n",
       "    </tr></tbody> \n",
       "</table> "
      ],
      "text/plain": [
       "<pandas.io.formats.style.Styler at 0x205bff4bb38>"
      ]
     },
     "execution_count": 222,
     "metadata": {},
     "output_type": "execute_result"
    }
   ],
   "source": [
    "#Purchasing Analysis (Total)\n",
    "d={'Number of Unique Items':[NumUniqueItems],'Average Price':[AvgPurchasePrice],'Number of Purchases':[NumPurchase],'Total Revenue': Revenue}\n",
    "e=pd.DataFrame(d)\n",
    "cols=['Number of Unique Items','Average Price','Number of Purchases','Total Revenue']\n",
    "e=e[cols]\n",
    "e.style"
   ]
  },
  {
   "cell_type": "code",
   "execution_count": 27,
   "metadata": {},
   "outputs": [
    {
     "data": {
      "text/plain": [
       "465"
      ]
     },
     "execution_count": 27,
     "metadata": {},
     "output_type": "execute_result"
    }
   ],
   "source": [
    "#Total Number of Men\n",
    "genders=[]\n",
    "players=[]\n",
    "for i in range(len(dataframe['SN'])):\n",
    "    if dataframe['SN'][i] not in players:\n",
    "        genders.append(dataframe['Gender'][i])\n",
    "        players.append(dataframe['SN'][i])\n",
    "NumMen=genders.count('Male')\n",
    "NumMen"
   ]
  },
  {
   "cell_type": "code",
   "execution_count": 29,
   "metadata": {},
   "outputs": [
    {
     "data": {
      "text/plain": [
       "0.8115183246073299"
      ]
     },
     "execution_count": 29,
     "metadata": {},
     "output_type": "execute_result"
    }
   ],
   "source": [
    "#Percentage of Men\n",
    "PercentMen=NumMen/TotalNumber\n",
    "PercentMen"
   ]
  },
  {
   "cell_type": "code",
   "execution_count": 33,
   "metadata": {},
   "outputs": [
    {
     "name": "stdout",
     "output_type": "stream",
     "text": [
      "100 0.17452006980802792\n"
     ]
    }
   ],
   "source": [
    "#Total Number of Females\n",
    "NumFem=genders.count('Female')\n",
    "\n",
    "#Percentage of Female\n",
    "PercentFem=NumFem/TotalNumber\n",
    "print(NumFem,PercentFem)"
   ]
  },
  {
   "cell_type": "code",
   "execution_count": 35,
   "metadata": {},
   "outputs": [
    {
     "name": "stdout",
     "output_type": "stream",
     "text": [
      "8 0.013961605584642234\n"
     ]
    }
   ],
   "source": [
    "#Total Number of Other/Non-Disclosed\n",
    "NumOther=TotalNumber-NumFem-NumMen\n",
    "\n",
    "#Percentage of Other\n",
    "PercentOther=NumOther/TotalNumber\n",
    "print(NumOther,PercentOther)"
   ]
  },
  {
   "cell_type": "code",
   "execution_count": 261,
   "metadata": {},
   "outputs": [
    {
     "data": {
      "text/html": [
       "<div>\n",
       "<style>\n",
       "    .dataframe thead tr:only-child th {\n",
       "        text-align: right;\n",
       "    }\n",
       "\n",
       "    .dataframe thead th {\n",
       "        text-align: left;\n",
       "    }\n",
       "\n",
       "    .dataframe tbody tr th {\n",
       "        vertical-align: top;\n",
       "    }\n",
       "</style>\n",
       "<table border=\"1\" class=\"dataframe\">\n",
       "  <thead>\n",
       "    <tr style=\"text-align: right;\">\n",
       "      <th></th>\n",
       "      <th>Percentage of Players</th>\n",
       "      <th>Total Count</th>\n",
       "    </tr>\n",
       "  </thead>\n",
       "  <tbody>\n",
       "    <tr>\n",
       "      <th>Male</th>\n",
       "      <td>81.15%</td>\n",
       "      <td>465</td>\n",
       "    </tr>\n",
       "    <tr>\n",
       "      <th>Female</th>\n",
       "      <td>17.45%</td>\n",
       "      <td>100</td>\n",
       "    </tr>\n",
       "    <tr>\n",
       "      <th>Other / Non-Disclosed</th>\n",
       "      <td>1.40%</td>\n",
       "      <td>8</td>\n",
       "    </tr>\n",
       "  </tbody>\n",
       "</table>\n",
       "</div>"
      ],
      "text/plain": [
       "                      Percentage of Players  Total Count\n",
       "Male                                 81.15%          465\n",
       "Female                               17.45%          100\n",
       "Other / Non-Disclosed                 1.40%            8"
      ]
     },
     "execution_count": 261,
     "metadata": {},
     "output_type": "execute_result"
    }
   ],
   "source": [
    "#Gender Demographics\n",
    "d={'Percentage of Players':['{:,.2f}%'.format(PercentMen*100),'{:,.2f}%'.format(PercentFem*100),'{:,.2f}%'.format(PercentOther*100)],'Total Count':[NumMen,NumFem,NumOther]}\n",
    "e=pd.DataFrame(data=d)\n",
    "e=e.rename({0:'Male',1:'Female',2:'Other / Non-Disclosed'})\n",
    "e"
   ]
  },
  {
   "cell_type": "code",
   "execution_count": 48,
   "metadata": {},
   "outputs": [
    {
     "data": {
      "text/plain": [
       "['Assassa38',\n",
       " 'Frichistasta59',\n",
       " 'Tyaerith73',\n",
       " 'Aillycal84',\n",
       " 'Faralcil63',\n",
       " 'Eurisuru25',\n",
       " 'Aithelis62',\n",
       " 'Euna48']"
      ]
     },
     "execution_count": 48,
     "metadata": {},
     "output_type": "execute_result"
    }
   ],
   "source": [
    "mix=dict(zip(players,genders))\n",
    "#list of each gender\n",
    "females=[]\n",
    "males=[]\n",
    "other=[]\n",
    "for i in mix.keys():\n",
    "    if mix[i]==\"Female\":\n",
    "        females.append(i)\n",
    "    elif mix[i]==\"Male\":\n",
    "        males.append(i)\n",
    "    else:\n",
    "        other.append(i)\n",
    "other"
   ]
  },
  {
   "cell_type": "code",
   "execution_count": 64,
   "metadata": {
    "collapsed": true
   },
   "outputs": [],
   "source": [
    "#Index Counts of Purchases For Each Gender\n",
    "malepurchases=[]\n",
    "femalepurchases=[]\n",
    "otherpurchases=[]\n",
    "for i in range(len(dataframe)):\n",
    "    if dataframe['Gender'][i]==\"Male\":\n",
    "        malepurchases.append(i)\n",
    "    elif dataframe['Gender'][i]==\"Female\":\n",
    "        femalepurchases.append(i)\n",
    "    else:\n",
    "        otherpurchases.append(i)\n"
   ]
  },
  {
   "cell_type": "code",
   "execution_count": 65,
   "metadata": {
    "collapsed": true
   },
   "outputs": [],
   "source": [
    "#Purchase Counts For Each Gender\n",
    "NumMalePurch=len(malepurchases)\n",
    "NumFemPurch=len(femalepurchases)\n",
    "NumOthPurch=len(otherpurchases)\n"
   ]
  },
  {
   "cell_type": "code",
   "execution_count": 235,
   "metadata": {},
   "outputs": [
    {
     "name": "stdout",
     "output_type": "stream",
     "text": [
      "1867.68 382.91 35.74\n"
     ]
    }
   ],
   "source": [
    "#Total Price of Purchases By Gender\n",
    "malesum=0\n",
    "for i in malepurchases:\n",
    "    malesum=malesum+dataframe.iloc[i]['Price']\n",
    "femalesum=0\n",
    "for i in femalepurchases:\n",
    "    femalesum=femalesum+dataframe.iloc[i]['Price']\n",
    "othersum=0\n",
    "for i in otherpurchases:\n",
    "    othersum=othersum+dataframe.iloc[i]['Price']\n",
    "malesums='${:,.2f}'.format(malesum)\n",
    "femalesums='${:,.2f}'.format(femalesum)\n",
    "othersums='${:,.2f}'.format(othersum)\n",
    "print(malesum,femalesum,othersum)"
   ]
  },
  {
   "cell_type": "code",
   "execution_count": 236,
   "metadata": {},
   "outputs": [
    {
     "name": "stdout",
     "output_type": "stream",
     "text": [
      "2.95052132701 2.81551470588 3.24909090909\n"
     ]
    }
   ],
   "source": [
    "#Average Price of Purchases By Gender\n",
    "maleavg=(malesum/NumMalePurch)\n",
    "femavg=(femalesum/NumFemPurch)\n",
    "othavg=(othersum/NumOthPurch)\n",
    "maleavgs='${:,.2f}'.format(maleavg)\n",
    "femavgs='${:,.2f}'.format(femavg)\n",
    "othavgs='${:,.2f}'.format(othavg)\n",
    "print(maleavg,femavg,othavg)"
   ]
  },
  {
   "cell_type": "code",
   "execution_count": 78,
   "metadata": {},
   "outputs": [
    {
     "name": "stdout",
     "output_type": "stream",
     "text": [
      "0.8115384615384615 0.17435897435897435 0.014102564102564103\n"
     ]
    }
   ],
   "source": [
    "#Normalized Totals\n",
    "normmale=NumMalePurch/NumPurchase\n",
    "normfem=NumFemPurch/NumPurchase\n",
    "normother=NumOthPurch/NumPurchase\n",
    "print(normmale,normfem,normother)"
   ]
  },
  {
   "cell_type": "code",
   "execution_count": 251,
   "metadata": {},
   "outputs": [
    {
     "data": {
      "text/html": [
       "<div>\n",
       "<style>\n",
       "    .dataframe thead tr:only-child th {\n",
       "        text-align: right;\n",
       "    }\n",
       "\n",
       "    .dataframe thead th {\n",
       "        text-align: left;\n",
       "    }\n",
       "\n",
       "    .dataframe tbody tr th {\n",
       "        vertical-align: top;\n",
       "    }\n",
       "</style>\n",
       "<table border=\"1\" class=\"dataframe\">\n",
       "  <thead>\n",
       "    <tr style=\"text-align: right;\">\n",
       "      <th></th>\n",
       "      <th>Purchase Count</th>\n",
       "      <th>Average Purchase Price</th>\n",
       "      <th>Total Purchase Value</th>\n",
       "      <th>Normalized Totals</th>\n",
       "    </tr>\n",
       "  </thead>\n",
       "  <tbody>\n",
       "    <tr>\n",
       "      <th>Gender</th>\n",
       "      <td></td>\n",
       "      <td></td>\n",
       "      <td></td>\n",
       "      <td></td>\n",
       "    </tr>\n",
       "    <tr>\n",
       "      <th>Female</th>\n",
       "      <td>136</td>\n",
       "      <td>$2.82</td>\n",
       "      <td>$382.91</td>\n",
       "      <td>0.174359</td>\n",
       "    </tr>\n",
       "    <tr>\n",
       "      <th>Male</th>\n",
       "      <td>633</td>\n",
       "      <td>$2.95</td>\n",
       "      <td>$1,867.68</td>\n",
       "      <td>0.811538</td>\n",
       "    </tr>\n",
       "    <tr>\n",
       "      <th>Other</th>\n",
       "      <td>11</td>\n",
       "      <td>$3.25</td>\n",
       "      <td>$35.74</td>\n",
       "      <td>0.0141026</td>\n",
       "    </tr>\n",
       "  </tbody>\n",
       "</table>\n",
       "</div>"
      ],
      "text/plain": [
       "       Purchase Count Average Purchase Price Total Purchase Value  \\\n",
       "Gender                                                              \n",
       "Female            136                  $2.82              $382.91   \n",
       "Male              633                  $2.95            $1,867.68   \n",
       "Other              11                  $3.25               $35.74   \n",
       "\n",
       "       Normalized Totals  \n",
       "Gender                    \n",
       "Female          0.174359  \n",
       "Male            0.811538  \n",
       "Other          0.0141026  "
      ]
     },
     "execution_count": 251,
     "metadata": {},
     "output_type": "execute_result"
    }
   ],
   "source": [
    "#Puchasing Analysis (Gender)\n",
    "d={'Purchase Count':['',NumFemPurch,NumMalePurch,NumOthPurch],\"Average Purchase Price\":['',femavgs,maleavgs,othavgs],'Total Purchase Value':['',femalesums,malesums,othersums],'Normalized Totals':['',normfem,normmale,normother]}\n",
    "e=pd.DataFrame(data=d)\n",
    "e=e.rename({0:'Gender',1:'Female',2:'Male',3:'Other'})\n",
    "cols=['Purchase Count','Average Purchase Price','Total Purchase Value',\"Normalized Totals\"]\n",
    "e=e[cols]\n",
    "e"
   ]
  },
  {
   "cell_type": "code",
   "execution_count": 271,
   "metadata": {},
   "outputs": [
    {
     "data": {
      "text/html": [
       "<div>\n",
       "<style>\n",
       "    .dataframe thead tr:only-child th {\n",
       "        text-align: right;\n",
       "    }\n",
       "\n",
       "    .dataframe thead th {\n",
       "        text-align: left;\n",
       "    }\n",
       "\n",
       "    .dataframe tbody tr th {\n",
       "        vertical-align: top;\n",
       "    }\n",
       "</style>\n",
       "<table border=\"1\" class=\"dataframe\">\n",
       "  <thead>\n",
       "    <tr style=\"text-align: right;\">\n",
       "      <th></th>\n",
       "      <th>Percentage of Players</th>\n",
       "      <th>Total Count</th>\n",
       "    </tr>\n",
       "  </thead>\n",
       "  <tbody>\n",
       "    <tr>\n",
       "      <th>&lt;10</th>\n",
       "      <td>3.32%</td>\n",
       "      <td>19</td>\n",
       "    </tr>\n",
       "    <tr>\n",
       "      <th>10-14</th>\n",
       "      <td>4.01%</td>\n",
       "      <td>23</td>\n",
       "    </tr>\n",
       "    <tr>\n",
       "      <th>15-19</th>\n",
       "      <td>17.45%</td>\n",
       "      <td>100</td>\n",
       "    </tr>\n",
       "    <tr>\n",
       "      <th>20+</th>\n",
       "      <td>75.22%</td>\n",
       "      <td>431</td>\n",
       "    </tr>\n",
       "  </tbody>\n",
       "</table>\n",
       "</div>"
      ],
      "text/plain": [
       "      Percentage of Players  Total Count\n",
       "<10                   3.32%           19\n",
       "10-14                 4.01%           23\n",
       "15-19                17.45%          100\n",
       "20+                  75.22%          431"
      ]
     },
     "execution_count": 271,
     "metadata": {},
     "output_type": "execute_result"
    }
   ],
   "source": [
    "#Age Demographics\n",
    "kidsn=[]\n",
    "tweensn=[]\n",
    "teensn=[]\n",
    "oldersn=[]\n",
    "for i in range(len(dataframe)):\n",
    "    if dataframe['Age'][i]<10 and dataframe['SN'][i] not in kidsn:\n",
    "            kidsn.append(dataframe['SN'][i])\n",
    "    elif dataframe['Age'][i]<=14 and dataframe['Age'][i]>=10 and  dataframe['SN'][i] not in tweensn:\n",
    "            tweensn.append(dataframe['SN'][i])\n",
    "    elif dataframe['Age'][i]<=19 and dataframe['Age'][i]>14 and dataframe['SN'][i] not in teensn:\n",
    "            teensn.append(dataframe['SN'][i])\n",
    "    elif dataframe['Age'][i]>19 and dataframe['SN'][i] not in oldersn:\n",
    "            oldersn.append(dataframe['SN'][i])\n",
    "numkid=len(kidsn)\n",
    "numtween=len(tweensn)\n",
    "numteen=len(teensn)\n",
    "numold=len(oldersn)\n",
    "perkid=numkid/TotalNumber\n",
    "pertween=numtween/TotalNumber\n",
    "perteen=numteen/TotalNumber\n",
    "perold=numold/TotalNumber\n",
    "d={'Percentage of Players':['{:,.2f}%'.format(perkid*100),'{:,.2f}%'.format(pertween*100),'{:,.2f}%'.format(perteen*100),'{:,.2f}%'.format(perold*100)],'Total Count':[numkid,numtween,numteen,numold]}\n",
    "e=pd.DataFrame(data=d)\n",
    "e=e.rename({0:'<10',1:'10-14',2:'15-19',3:'20+'})\n",
    "e"
   ]
  },
  {
   "cell_type": "code",
   "execution_count": 81,
   "metadata": {
    "collapsed": true
   },
   "outputs": [],
   "source": [
    "#Index Counts of Purchases For Each Age Group\n",
    "kids=[]\n",
    "tweens=[]\n",
    "teens=[]\n",
    "older=[]\n",
    "for i in range(len(dataframe)):\n",
    "    if dataframe['Age'][i]<10:\n",
    "        kids.append(i)\n",
    "    elif dataframe['Age'][i]<14:\n",
    "        tweens.append(i)\n",
    "    elif dataframe['Age'][i]<19:\n",
    "        teens.append(i)\n",
    "    else:\n",
    "        older.append(i)"
   ]
  },
  {
   "cell_type": "code",
   "execution_count": 83,
   "metadata": {},
   "outputs": [
    {
     "name": "stdout",
     "output_type": "stream",
     "text": [
      "28 29 117 606\n"
     ]
    }
   ],
   "source": [
    "#Purchase Counts by Age\n",
    "\n",
    "NumKids=len(kids)\n",
    "NumTween=len(tweens)\n",
    "NumTeen=len(teens)\n",
    "NumOld=len(older)"
   ]
  },
  {
   "cell_type": "code",
   "execution_count": 85,
   "metadata": {},
   "outputs": [
    {
     "name": "stdout",
     "output_type": "stream",
     "text": [
      "83.46 82.65 333.62 1786.6\n"
     ]
    }
   ],
   "source": [
    "#Total Purchase Value By Age\n",
    "kidsum=0\n",
    "tweensum=0\n",
    "teensum=0\n",
    "oldsum=0\n",
    "for i in kids:\n",
    "    kidsum=kidsum+dataframe.iloc[i]['Price']\n",
    "for i in tweens:\n",
    "    tweensum=tweensum+dataframe.iloc[i]['Price']\n",
    "for i in teens:\n",
    "    teensum=teensum+dataframe.iloc[i]['Price']\n",
    "for i in older:\n",
    "    oldsum=oldsum+dataframe.iloc[i]['Price']\n",
    "print(kidsum,tweensum,teensum,oldsum)\n",
    "    "
   ]
  },
  {
   "cell_type": "code",
   "execution_count": 86,
   "metadata": {},
   "outputs": [
    {
     "name": "stdout",
     "output_type": "stream",
     "text": [
      "2.98071428571 2.85 2.85145299145 2.94818481848\n"
     ]
    }
   ],
   "source": [
    "#Average Purchase Value By Age\n",
    "kidavg=kidsum/NumKids\n",
    "tweenavg=tweensum/NumTween\n",
    "teenavg=teensum/NumTeen\n",
    "oldavg=oldsum/NumOld\n",
    "print(kidavg,tweenavg,teenavg,oldavg)"
   ]
  },
  {
   "cell_type": "code",
   "execution_count": 87,
   "metadata": {},
   "outputs": [
    {
     "name": "stdout",
     "output_type": "stream",
     "text": [
      "0.035897435897435895 0.03717948717948718 0.15 0.7769230769230769\n"
     ]
    }
   ],
   "source": [
    "#Normalized Total\n",
    "normkid=NumKids/NumPurchase\n",
    "normtween=NumTween/NumPurchase\n",
    "normteen=NumTeen/NumPurchase\n",
    "normold=NumOld/NumPurchase\n",
    "print(normkid,normtween,normteen,normold)"
   ]
  },
  {
   "cell_type": "code",
   "execution_count": 279,
   "metadata": {},
   "outputs": [
    {
     "data": {
      "text/html": [
       "<div>\n",
       "<style>\n",
       "    .dataframe thead tr:only-child th {\n",
       "        text-align: right;\n",
       "    }\n",
       "\n",
       "    .dataframe thead th {\n",
       "        text-align: left;\n",
       "    }\n",
       "\n",
       "    .dataframe tbody tr th {\n",
       "        vertical-align: top;\n",
       "    }\n",
       "</style>\n",
       "<table border=\"1\" class=\"dataframe\">\n",
       "  <thead>\n",
       "    <tr style=\"text-align: right;\">\n",
       "      <th></th>\n",
       "      <th>Purchase Count</th>\n",
       "      <th>Average Purchase Price</th>\n",
       "      <th>Total Purchase Value</th>\n",
       "      <th>Normalized Totals</th>\n",
       "    </tr>\n",
       "  </thead>\n",
       "  <tbody>\n",
       "    <tr>\n",
       "      <th>&lt;10</th>\n",
       "      <td>28</td>\n",
       "      <td>$2.98</td>\n",
       "      <td>$83.46</td>\n",
       "      <td>0.035897</td>\n",
       "    </tr>\n",
       "    <tr>\n",
       "      <th>10-14</th>\n",
       "      <td>29</td>\n",
       "      <td>$2.85</td>\n",
       "      <td>$82.65</td>\n",
       "      <td>0.037179</td>\n",
       "    </tr>\n",
       "    <tr>\n",
       "      <th>15-19</th>\n",
       "      <td>117</td>\n",
       "      <td>$2.85</td>\n",
       "      <td>$333.62</td>\n",
       "      <td>0.150000</td>\n",
       "    </tr>\n",
       "    <tr>\n",
       "      <th>20+</th>\n",
       "      <td>606</td>\n",
       "      <td>$2.95</td>\n",
       "      <td>$1786.60</td>\n",
       "      <td>0.776923</td>\n",
       "    </tr>\n",
       "  </tbody>\n",
       "</table>\n",
       "</div>"
      ],
      "text/plain": [
       "       Purchase Count Average Purchase Price Total Purchase Value  \\\n",
       "<10                28                  $2.98               $83.46   \n",
       "10-14              29                  $2.85               $82.65   \n",
       "15-19             117                  $2.85              $333.62   \n",
       "20+               606                  $2.95             $1786.60   \n",
       "\n",
       "       Normalized Totals  \n",
       "<10             0.035897  \n",
       "10-14           0.037179  \n",
       "15-19           0.150000  \n",
       "20+             0.776923  "
      ]
     },
     "execution_count": 279,
     "metadata": {},
     "output_type": "execute_result"
    }
   ],
   "source": [
    "#Purchasing Analysis (Age)\n",
    "d={'Purchase Count':[NumKids,NumTween,NumTeen,NumOld],'Average Purchase Price':[kidavg,tweenavg,teenavg,oldavg],'Total Purchase Value':[kidsum,tweensum,teensum,oldsum],\"Normalized Totals\":[normkid,normtween,normteen,normold]}\n",
    "e=pd.DataFrame(data=d)\n",
    "col=['Purchase Count','Average Purchase Price','Total Purchase Value','Normalized Totals']\n",
    "e=e[col]\n",
    "e['Average Purchase Price']=pd.Series([\"${0:.2f}\".format(val) for val in e['Average Purchase Price']])\n",
    "e['Total Purchase Value']=pd.Series([\"${0:.2f}\".format(val) for val in e['Total Purchase Value']])\n",
    "e=e.rename({0:'<10',1:'10-14',2:'15-19',3:'20+'})\n",
    "e"
   ]
  },
  {
   "cell_type": "code",
   "execution_count": 314,
   "metadata": {},
   "outputs": [],
   "source": [
    "#Highest 5 Spenders SN\n",
    "new=dataframe.groupby(['SN'])['Price'].sum()\n",
    "spenders=pd.DataFrame(new.nlargest(5,'first'))\n",
    "names=[spenders.index[i] for i in range(5)]"
   ]
  },
  {
   "cell_type": "code",
   "execution_count": 339,
   "metadata": {},
   "outputs": [
    {
     "name": "stdout",
     "output_type": "stream",
     "text": [
      "5 4 4 3 3\n"
     ]
    },
    {
     "data": {
      "text/plain": [
       "[5, 4, 4, 3, 3]"
      ]
     },
     "execution_count": 339,
     "metadata": {},
     "output_type": "execute_result"
    }
   ],
   "source": [
    "#Purchase Count of 5 Spenders\n",
    "firstcount=0\n",
    "secondcount=0\n",
    "thirdcount=0\n",
    "fourthcount=0\n",
    "fifthcount=0\n",
    "for i in range(len(dataframe)):\n",
    "    if dataframe['SN'][i]==names[0]:\n",
    "        firstcount+=1\n",
    "    elif dataframe['SN'][i]==names[1]:\n",
    "        secondcount+=1\n",
    "    elif dataframe['SN'][i]==names[2]:\n",
    "        thirdcount+=1\n",
    "    elif dataframe['SN'][i]==names[3]:\n",
    "        fourthcount+=1\n",
    "    elif dataframe['SN'][i]==names[4]:\n",
    "        fifthcount+=1\n",
    "print(firstcount,secondcount,thirdcount,fourthcount,fifthcount)\n",
    "o=[firstcount,secondcount,thirdcount,fourthcount,fifthcount]\n",
    "o"
   ]
  },
  {
   "cell_type": "code",
   "execution_count": 306,
   "metadata": {},
   "outputs": [
    {
     "data": {
      "text/plain": [
       "[17.06, 13.56, 12.739999999999998, 12.73, 11.58]"
      ]
     },
     "execution_count": 306,
     "metadata": {},
     "output_type": "execute_result"
    }
   ],
   "source": [
    "#Total Purchase Price\n",
    "totals=spenders.Price\n",
    "totals=[float(spenders.Price[i]) for i in range(5)]\n",
    "totals"
   ]
  },
  {
   "cell_type": "code",
   "execution_count": 317,
   "metadata": {
    "collapsed": true
   },
   "outputs": [],
   "source": [
    "#Average Purchase Price\n",
    "avgfirst=totals[0]/firstcount\n",
    "avgsecond=totals[1]/secondcount\n",
    "avgthird=totals[2]/thirdcount\n",
    "avgfourth=totals[3]/fourthcount\n",
    "avgfifth=totals[4]/fifthcount\n",
    "\n",
    "\n"
   ]
  },
  {
   "cell_type": "code",
   "execution_count": 348,
   "metadata": {},
   "outputs": [
    {
     "data": {
      "text/html": [
       "<div>\n",
       "<style>\n",
       "    .dataframe thead tr:only-child th {\n",
       "        text-align: right;\n",
       "    }\n",
       "\n",
       "    .dataframe thead th {\n",
       "        text-align: left;\n",
       "    }\n",
       "\n",
       "    .dataframe tbody tr th {\n",
       "        vertical-align: top;\n",
       "    }\n",
       "</style>\n",
       "<table border=\"1\" class=\"dataframe\">\n",
       "  <thead>\n",
       "    <tr style=\"text-align: right;\">\n",
       "      <th></th>\n",
       "      <th>Purchase Count</th>\n",
       "      <th>Average Purchase Price</th>\n",
       "      <th>Total Purchase Value</th>\n",
       "    </tr>\n",
       "  </thead>\n",
       "  <tbody>\n",
       "    <tr>\n",
       "      <th>SN</th>\n",
       "      <td></td>\n",
       "      <td></td>\n",
       "      <td></td>\n",
       "    </tr>\n",
       "    <tr>\n",
       "      <th>Undirrala66</th>\n",
       "      <td>5</td>\n",
       "      <td>$3.41</td>\n",
       "      <td>$17.06</td>\n",
       "    </tr>\n",
       "    <tr>\n",
       "      <th>Saedue76</th>\n",
       "      <td>4</td>\n",
       "      <td>$3.39</td>\n",
       "      <td>$13.56</td>\n",
       "    </tr>\n",
       "    <tr>\n",
       "      <th>Mindimnya67</th>\n",
       "      <td>4</td>\n",
       "      <td>$3.18</td>\n",
       "      <td>$12.74</td>\n",
       "    </tr>\n",
       "    <tr>\n",
       "      <th>Haellysu29</th>\n",
       "      <td>3</td>\n",
       "      <td>$4.24</td>\n",
       "      <td>$12.73</td>\n",
       "    </tr>\n",
       "    <tr>\n",
       "      <th>Eoda93</th>\n",
       "      <td>3</td>\n",
       "      <td>$3.86</td>\n",
       "      <td>$11.58</td>\n",
       "    </tr>\n",
       "  </tbody>\n",
       "</table>\n",
       "</div>"
      ],
      "text/plain": [
       "            Purchase Count Average Purchase Price Total Purchase Value\n",
       "SN                                                                    \n",
       "Undirrala66              5                  $3.41               $17.06\n",
       "Saedue76                 4                  $3.39               $13.56\n",
       "Mindimnya67              4                  $3.18               $12.74\n",
       "Haellysu29               3                  $4.24               $12.73\n",
       "Eoda93                   3                  $3.86               $11.58"
      ]
     },
     "execution_count": 348,
     "metadata": {},
     "output_type": "execute_result"
    }
   ],
   "source": [
    "#Top Spenders\n",
    "d={'Purchase Count':['',firstcount,secondcount,thirdcount,fourthcount,fifthcount],'Average Purchase Price':['',\"${0:.2f}\".format(avgfirst),\"${0:.2f}\".format(avgsecond),\"${0:.2f}\".format(avgthird),\"${0:.2f}\".format(avgfourth),\"${0:.2f}\".format(avgfifth)],'Total Purchase Value':['',\"${0:.2f}\".format(totals[0]),\"${0:.2f}\".format(totals[1]),\"${0:.2f}\".format(totals[2]),\"${0:.2f}\".format(totals[3]),\"${0:.2f}\".format(totals[4])]}\n",
    "e=pd.DataFrame(data=d)\n",
    "cols=['Purchase Count','Average Purchase Price','Total Purchase Value']\n",
    "e=e[cols]\n",
    "e=e.rename({0:'SN',1:names[0],2:names[1],3:names[2],4:names[3],5:names[4]})\n",
    "e"
   ]
  },
  {
   "cell_type": "code",
   "execution_count": 382,
   "metadata": {},
   "outputs": [],
   "source": [
    "#Most Popular 5 Items\n",
    "mostpopular=dataframe.groupby(['Item ID']).count()\n",
    "largest=mostpopular.nlargest(5,'Price',keep='first')\n",
    "ids=[largest.index[i] for i in range(5)]\n",
    "count=[largest.Age[i] for i in ids]"
   ]
  },
  {
   "cell_type": "code",
   "execution_count": 372,
   "metadata": {},
   "outputs": [
    {
     "data": {
      "text/plain": [
       "[2.35, 2.23, 1.49, 2.07, 4.14]"
      ]
     },
     "execution_count": 372,
     "metadata": {},
     "output_type": "execute_result"
    }
   ],
   "source": [
    "#Most Popular 5 Items Prices and Names\n",
    "itemsnameid={}\n",
    "itemprice={}\n",
    "for i in range(len(dataframe['Item ID'])):\n",
    "    if i not in itemsnameid.keys():\n",
    "        itemsnameid[dataframe['Item ID'][i]]=dataframe['Item Name'][i]\n",
    "for i in range(len(dataframe['Item ID'])):\n",
    "    if i not in itemprice.keys():\n",
    "        itemprice[dataframe['Item ID'][i]]=float(dataframe['Price'][i])\n",
    "itemprices=[itemprice[i] for i in ids]\n",
    "itemprices"
   ]
  },
  {
   "cell_type": "code",
   "execution_count": 381,
   "metadata": {},
   "outputs": [
    {
     "data": {
      "text/html": [
       "<div>\n",
       "<style>\n",
       "    .dataframe thead tr:only-child th {\n",
       "        text-align: right;\n",
       "    }\n",
       "\n",
       "    .dataframe thead th {\n",
       "        text-align: left;\n",
       "    }\n",
       "\n",
       "    .dataframe tbody tr th {\n",
       "        vertical-align: top;\n",
       "    }\n",
       "</style>\n",
       "<table border=\"1\" class=\"dataframe\">\n",
       "  <thead>\n",
       "    <tr style=\"text-align: right;\">\n",
       "      <th></th>\n",
       "      <th></th>\n",
       "      <th>Purchase Count</th>\n",
       "      <th>Item Price</th>\n",
       "      <th>Total Purchase Value</th>\n",
       "    </tr>\n",
       "    <tr>\n",
       "      <th>Item ID</th>\n",
       "      <th>Item Name</th>\n",
       "      <th></th>\n",
       "      <th></th>\n",
       "      <th></th>\n",
       "    </tr>\n",
       "  </thead>\n",
       "  <tbody>\n",
       "    <tr>\n",
       "      <th>39</th>\n",
       "      <th>Betrayal, Whisper of Grieving Widows</th>\n",
       "      <td>11</td>\n",
       "      <td>2.35</td>\n",
       "      <td>25.85</td>\n",
       "    </tr>\n",
       "    <tr>\n",
       "      <th>84</th>\n",
       "      <th>Arcane Gem</th>\n",
       "      <td>11</td>\n",
       "      <td>2.23</td>\n",
       "      <td>24.53</td>\n",
       "    </tr>\n",
       "    <tr>\n",
       "      <th>13</th>\n",
       "      <th>Serenity</th>\n",
       "      <td>9</td>\n",
       "      <td>1.49</td>\n",
       "      <td>13.41</td>\n",
       "    </tr>\n",
       "    <tr>\n",
       "      <th>31</th>\n",
       "      <th>Trickster</th>\n",
       "      <td>9</td>\n",
       "      <td>2.07</td>\n",
       "      <td>18.63</td>\n",
       "    </tr>\n",
       "    <tr>\n",
       "      <th>34</th>\n",
       "      <th>Retribution Axe</th>\n",
       "      <td>9</td>\n",
       "      <td>4.14</td>\n",
       "      <td>37.26</td>\n",
       "    </tr>\n",
       "  </tbody>\n",
       "</table>\n",
       "</div>"
      ],
      "text/plain": [
       "                                              Purchase Count  Item Price  \\\n",
       "Item ID Item Name                                                          \n",
       "39      Betrayal, Whisper of Grieving Widows              11        2.35   \n",
       "84      Arcane Gem                                        11        2.23   \n",
       "13      Serenity                                           9        1.49   \n",
       "31      Trickster                                          9        2.07   \n",
       "34      Retribution Axe                                    9        4.14   \n",
       "\n",
       "                                              Total Purchase Value  \n",
       "Item ID Item Name                                                   \n",
       "39      Betrayal, Whisper of Grieving Widows                 25.85  \n",
       "84      Arcane Gem                                           24.53  \n",
       "13      Serenity                                             13.41  \n",
       "31      Trickster                                            18.63  \n",
       "34      Retribution Axe                                      37.26  "
      ]
     },
     "execution_count": 381,
     "metadata": {},
     "output_type": "execute_result"
    }
   ],
   "source": [
    "#Most Popular Items\n",
    "d={'Item ID':ids,'Item Name':[itemsnameid[i] for i in ids],'Purchase Count':count,'Item Price':itemprices,'Total Purchase Value':[float(itemprices[i]*count[i]) for i in range(5)]}\n",
    "e=pd.DataFrame(data=d)\n",
    "cols=['Item ID','Item Name', 'Purchase Count','Item Price','Total Purchase Value']\n",
    "e=e[cols]\n",
    "e.set_index(['Item ID','Item Name'])"
   ]
  },
  {
   "cell_type": "code",
   "execution_count": 398,
   "metadata": {
    "scrolled": true
   },
   "outputs": [
    {
     "data": {
      "text/plain": [
       "[37.259999999999998,\n",
       " 29.75,\n",
       " 29.699999999999999,\n",
       " 29.220000000000002,\n",
       " 28.879999999999999]"
      ]
     },
     "execution_count": 398,
     "metadata": {},
     "output_type": "execute_result"
    }
   ],
   "source": [
    "#Most Profitable Items\n",
    "new=dataframe.groupby(['Item ID'])['Price'].sum()\n",
    "profitable=pd.DataFrame(new.nlargest(5,'first'))\n",
    "ids=[profitable.index[i] for i in range(5)]\n",
    "names=[itemsnameid[i] for i in ids]\n",
    "prices=[profitable.Price[i] for i in ids]\n",
    "count=[mostpopular.Age[i] for i in ids]\n",
    "totalvalue=[float(count[i]*prices[i]) for i in range(5)]\n",
    "prices"
   ]
  },
  {
   "cell_type": "code",
   "execution_count": 402,
   "metadata": {},
   "outputs": [
    {
     "data": {
      "text/html": [
       "<div>\n",
       "<style>\n",
       "    .dataframe thead tr:only-child th {\n",
       "        text-align: right;\n",
       "    }\n",
       "\n",
       "    .dataframe thead th {\n",
       "        text-align: left;\n",
       "    }\n",
       "\n",
       "    .dataframe tbody tr th {\n",
       "        vertical-align: top;\n",
       "    }\n",
       "</style>\n",
       "<table border=\"1\" class=\"dataframe\">\n",
       "  <thead>\n",
       "    <tr style=\"text-align: right;\">\n",
       "      <th></th>\n",
       "      <th></th>\n",
       "      <th>Purchase Count</th>\n",
       "      <th>Item Price</th>\n",
       "      <th>Total Purchase Value</th>\n",
       "    </tr>\n",
       "    <tr>\n",
       "      <th>Item ID</th>\n",
       "      <th>Item Name</th>\n",
       "      <th></th>\n",
       "      <th></th>\n",
       "      <th></th>\n",
       "    </tr>\n",
       "  </thead>\n",
       "  <tbody>\n",
       "    <tr>\n",
       "      <th>34</th>\n",
       "      <th>Retribution Axe</th>\n",
       "      <td>9</td>\n",
       "      <td>$37.26</td>\n",
       "      <td>$335.34</td>\n",
       "    </tr>\n",
       "    <tr>\n",
       "      <th>115</th>\n",
       "      <th>Spectral Diamond Doomblade</th>\n",
       "      <td>7</td>\n",
       "      <td>$29.75</td>\n",
       "      <td>$208.25</td>\n",
       "    </tr>\n",
       "    <tr>\n",
       "      <th>32</th>\n",
       "      <th>Orenmir</th>\n",
       "      <td>6</td>\n",
       "      <td>$29.70</td>\n",
       "      <td>$178.20</td>\n",
       "    </tr>\n",
       "    <tr>\n",
       "      <th>103</th>\n",
       "      <th>Singed Scalpel</th>\n",
       "      <td>6</td>\n",
       "      <td>$29.22</td>\n",
       "      <td>$175.32</td>\n",
       "    </tr>\n",
       "    <tr>\n",
       "      <th>107</th>\n",
       "      <th>Splitter, Foe Of Subtlety</th>\n",
       "      <td>8</td>\n",
       "      <td>$28.88</td>\n",
       "      <td>$231.04</td>\n",
       "    </tr>\n",
       "  </tbody>\n",
       "</table>\n",
       "</div>"
      ],
      "text/plain": [
       "                                    Purchase Count Item Price  \\\n",
       "Item ID Item Name                                               \n",
       "34      Retribution Axe                          9     $37.26   \n",
       "115     Spectral Diamond Doomblade               7     $29.75   \n",
       "32      Orenmir                                  6     $29.70   \n",
       "103     Singed Scalpel                           6     $29.22   \n",
       "107     Splitter, Foe Of Subtlety                8     $28.88   \n",
       "\n",
       "                                   Total Purchase Value  \n",
       "Item ID Item Name                                        \n",
       "34      Retribution Axe                         $335.34  \n",
       "115     Spectral Diamond Doomblade              $208.25  \n",
       "32      Orenmir                                 $178.20  \n",
       "103     Singed Scalpel                          $175.32  \n",
       "107     Splitter, Foe Of Subtlety               $231.04  "
      ]
     },
     "execution_count": 402,
     "metadata": {},
     "output_type": "execute_result"
    }
   ],
   "source": [
    "d={'Item ID':ids,'Item Name':names,'Purchase Count':count,'Item Price':[\"${0:.2f}\".format(prices[i]) for i in range(5)],'Total Purchase Value':[\"${0:.2f}\".format(totalvalue[i]) for i in range(5)]}\n",
    "e=pd.DataFrame(data=d)\n",
    "cols=['Item ID','Item Name', 'Purchase Count','Item Price','Total Purchase Value']\n",
    "e=e[cols]\n",
    "e.set_index(['Item ID','Item Name'])"
   ]
  }
 ],
 "metadata": {
  "kernelspec": {
   "display_name": "Python 3",
   "language": "python",
   "name": "python3"
  },
  "language_info": {
   "codemirror_mode": {
    "name": "ipython",
    "version": 3
   },
   "file_extension": ".py",
   "mimetype": "text/x-python",
   "name": "python",
   "nbconvert_exporter": "python",
   "pygments_lexer": "ipython3",
   "version": "3.6.3"
  }
 },
 "nbformat": 4,
 "nbformat_minor": 2
}
